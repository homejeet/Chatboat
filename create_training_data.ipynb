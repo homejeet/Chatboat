{
 "cells": [
  {
   "cell_type": "code",
   "execution_count": 1,
   "metadata": {},
   "outputs": [
    {
     "name": "stdout",
     "output_type": "stream",
     "text": [
      "Requirement already satisfied: dill in c:\\users\\rakeshs\\anaconda3\\lib\\site-packages (0.3.1.1)\n"
     ]
    }
   ],
   "source": [
    "import sys\n",
    "!{sys.executable} -m pip install dill"
   ]
  },
  {
   "cell_type": "code",
   "execution_count": 2,
   "metadata": {},
   "outputs": [],
   "source": [
    "import dill\n",
    "import sqlite3\n",
    "import pandas as pd"
   ]
  },
  {
   "cell_type": "code",
   "execution_count": 3,
   "metadata": {},
   "outputs": [
    {
     "name": "stdout",
     "output_type": "stream",
     "text": [
      "100000 rows completed so far\n",
      "200000 rows completed so far\n",
      "300000 rows completed so far\n",
      "400000 rows completed so far\n",
      "500000 rows completed so far\n",
      "600000 rows completed so far\n",
      "700000 rows completed so far\n",
      "800000 rows completed so far\n",
      "900000 rows completed so far\n"
     ]
    }
   ],
   "source": [
    "timeframes = ['2015-01']\n",
    "\n",
    "for timeframe in timeframes:\n",
    "    connection = sqlite3.connect('C:/Users/RakeshS/Videos/videos/ENGLISH MOVIES/RC_2015-01/{}.db'.format(timeframe))\n",
    "    c = connection.cursor()\n",
    "    limit = 5000\n",
    "    last_unix = 0\n",
    "    cur_length = limit\n",
    "    counter = 0\n",
    "    test_done = False\n",
    "\n",
    "    while cur_length == limit:\n",
    "\n",
    "        df = pd.read_sql(\"SELECT * FROM parent_reply WHERE unix > {} and parent NOT NULL and score > 0 ORDER BY unix ASC LIMIT {}\".format(last_unix,limit),connection)\n",
    "        last_unix = df.tail(1)['unix'].values[0]\n",
    "        cur_length = len(df)\n",
    "\n",
    "        if not test_done:\n",
    "            with open('test.from','a', encoding='utf8') as f:\n",
    "                for content in df['parent'].values:\n",
    "                    f.write(content+'\\n')\n",
    "\n",
    "            with open('test.to','a', encoding='utf8') as f:\n",
    "                for content in df['comment'].values:\n",
    "                    f.write(str(content)+'\\n')\n",
    "\n",
    "            test_done = True\n",
    "\n",
    "        else:\n",
    "            with open('train.from','a', encoding='utf8') as f:\n",
    "                for content in df['parent'].values:\n",
    "                    f.write(content+'\\n')\n",
    "\n",
    "            with open('train.to','a', encoding='utf8') as f:\n",
    "                for content in df['comment'].values:\n",
    "                    f.write(str(content)+'\\n')\n",
    "\n",
    "        counter += 1\n",
    "        if counter % 20 == 0:\n",
    "            print(counter*limit,'rows completed so far')"
   ]
  },
  {
   "cell_type": "code",
   "execution_count": null,
   "metadata": {},
   "outputs": [],
   "source": []
  },
  {
   "cell_type": "code",
   "execution_count": null,
   "metadata": {},
   "outputs": [],
   "source": []
  }
 ],
 "metadata": {
  "kernelspec": {
   "display_name": "Python 3",
   "language": "python",
   "name": "python3"
  },
  "language_info": {
   "codemirror_mode": {
    "name": "ipython",
    "version": 3
   },
   "file_extension": ".py",
   "mimetype": "text/x-python",
   "name": "python",
   "nbconvert_exporter": "python",
   "pygments_lexer": "ipython3",
   "version": "3.6.5"
  }
 },
 "nbformat": 4,
 "nbformat_minor": 2
}
